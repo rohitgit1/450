{
  "nbformat": 4,
  "nbformat_minor": 0,
  "metadata": {
    "colab": {
      "name": "1.ipynb",
      "provenance": [],
      "authorship_tag": "ABX9TyM1ElLEIhpHiyCS+eoFGdWQ",
      "include_colab_link": true
    },
    "kernelspec": {
      "name": "python3",
      "display_name": "Python 3"
    },
    "language_info": {
      "name": "python"
    }
  },
  "cells": [
    {
      "cell_type": "markdown",
      "metadata": {
        "id": "view-in-github",
        "colab_type": "text"
      },
      "source": [
        "<a href=\"https://colab.research.google.com/github/rohitgit1/450/blob/main/1.ipynb\" target=\"_parent\"><img src=\"https://colab.research.google.com/assets/colab-badge.svg\" alt=\"Open In Colab\"/></a>"
      ]
    },
    {
      "cell_type": "code",
      "metadata": {
        "id": "5VVTfCKWP8oK"
      },
      "source": [
        "#Brute Force"
      ],
      "execution_count": 1,
      "outputs": []
    },
    {
      "cell_type": "code",
      "metadata": {
        "id": "qNGSGOYVSiyA"
      },
      "source": [
        "def rev(s):\n",
        "  return s[::-1]"
      ],
      "execution_count": 2,
      "outputs": []
    },
    {
      "cell_type": "code",
      "metadata": {
        "colab": {
          "base_uri": "https://localhost:8080/"
        },
        "id": "nmU1iDVASrlZ",
        "outputId": "135f49db-fa1e-4fed-b53b-0bbbd5243c3e"
      },
      "source": [
        "rev([4,5,63,9])"
      ],
      "execution_count": 3,
      "outputs": [
        {
          "output_type": "execute_result",
          "data": {
            "text/plain": [
              "[9, 63, 5, 4]"
            ]
          },
          "metadata": {
            "tags": []
          },
          "execution_count": 3
        }
      ]
    },
    {
      "cell_type": "code",
      "metadata": {
        "id": "2NbDvsWGSwra"
      },
      "source": [
        "#2_Pointer Solution"
      ],
      "execution_count": 4,
      "outputs": []
    },
    {
      "cell_type": "code",
      "metadata": {
        "id": "H4t3TnoITntZ"
      },
      "source": [
        "def revbetter(s):\n",
        "  l = 0\n",
        "  r = len(s)-1\n",
        "  while l<r:\n",
        "    hold = s[l]\n",
        "    s[l] = s[r]\n",
        "    s[r] = hold\n",
        "    l += 1\n",
        "    r -= 1\n",
        "  return s"
      ],
      "execution_count": 9,
      "outputs": []
    },
    {
      "cell_type": "code",
      "metadata": {
        "colab": {
          "base_uri": "https://localhost:8080/"
        },
        "id": "Xbd2J4jnUr0Z",
        "outputId": "e461d5ef-9744-41d4-fc04-76be7ae95dc5"
      },
      "source": [
        "revbetter([7,4,3,0])"
      ],
      "execution_count": 10,
      "outputs": [
        {
          "output_type": "execute_result",
          "data": {
            "text/plain": [
              "[0, 3, 4, 7]"
            ]
          },
          "metadata": {
            "tags": []
          },
          "execution_count": 10
        }
      ]
    },
    {
      "cell_type": "code",
      "metadata": {
        "id": "eYUNjgGnUwtw"
      },
      "source": [
        ""
      ],
      "execution_count": null,
      "outputs": []
    }
  ]
}